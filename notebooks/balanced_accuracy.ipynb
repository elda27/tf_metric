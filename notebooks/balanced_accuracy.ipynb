{
 "metadata": {
  "language_info": {
   "codemirror_mode": {
    "name": "ipython",
    "version": 3
   },
   "file_extension": ".py",
   "mimetype": "text/x-python",
   "name": "python",
   "nbconvert_exporter": "python",
   "pygments_lexer": "ipython3",
   "version": "3.7.6-final"
  },
  "orig_nbformat": 2,
  "kernelspec": {
   "name": "python3",
   "display_name": "Python 3"
  }
 },
 "nbformat": 4,
 "nbformat_minor": 2,
 "cells": [
  {
   "cell_type": "code",
   "execution_count": 3,
   "metadata": {},
   "outputs": [],
   "source": [
    "import tensorflow as tf\n",
    "from tensorflow.python.keras.utils import metrics_utils\n",
    "from tensorflow.python.ops import init_ops\n",
    "from tensorflow.python.ops import math_ops\n",
    "from tensorflow.python.keras.utils.generic_utils import to_list\n",
    "from tensorflow.python.keras import backend as K"
   ]
  },
  {
   "cell_type": "code",
   "execution_count": 64,
   "metadata": {},
   "outputs": [],
   "source": [
    "class BlanacedBinaryAccuracy(tf.keras.metrics.Metric):\n",
    "    def __init__(\n",
    "        self,\n",
    "        thresholds=None,\n",
    "        name=None,\n",
    "        dtype=None\n",
    "    ):\n",
    "        super().__init__(name=name, dtype=dtype)\n",
    "        self.init_thresholds = thresholds\n",
    "\n",
    "        if thresholds is None:\n",
    "            thresholds = [0.5]\n",
    "        elif isinstance(thresholds, float):\n",
    "            thresholds = [thresholds]\n",
    "        self.thresholds = thresholds\n",
    "        self.true_positives = self.add_weight('true_positives', shape=(len(self.thresholds),), initializer=init_ops.zeros_initializer)\n",
    "        self.false_negatives = self.add_weight('false_negatives',shape=(len(self.thresholds),), initializer=init_ops.zeros_initializer)\n",
    "        self.true_negatives = self.add_weight('true_negatives', shape=(len(self.thresholds),), initializer=init_ops.zeros_initializer)\n",
    "        self.false_positives = self.add_weight('false_positives',shape=(len(self.thresholds),), initializer=init_ops.zeros_initializer)\n",
    "\n",
    "    def update_state(self, y_true, y_pred, sample_weight=None):\n",
    "        tf.print(y_true.shape, y_pred.shape)\n",
    "        return metrics_utils.update_confusion_matrix_variables(\n",
    "            {\n",
    "                metrics_utils.ConfusionMatrix.TRUE_POSITIVES: self.true_positives,\n",
    "                metrics_utils.ConfusionMatrix.TRUE_NEGATIVES: self.true_negatives,\n",
    "                metrics_utils.ConfusionMatrix.FALSE_NEGATIVES: self.false_negatives,\n",
    "                metrics_utils.ConfusionMatrix.FALSE_POSITIVES: self.false_positives,\n",
    "            },\n",
    "            y_true, y_pred,\n",
    "            thresholds=self.thresholds,\n",
    "        )\n",
    "\n",
    "    def result(self):\n",
    "        pos_acc = math_ops.div_no_nan(\n",
    "            self.true_positives, self.true_positives + self.false_negatives)\n",
    "        neg_acc = math_ops.div_no_nan(\n",
    "            self.true_negatives, self.true_negatives + self.false_positives)\n",
    "        acc = (pos_acc + neg_acc) / 2\n",
    "        return acc[0] if len(self.thresholds) == 1 else tf.reduce_max(acc)\n",
    "\n",
    "    def reset_states(self):\n",
    "        num_thresholds = len(to_list(self.thresholds))\n",
    "        K.batch_set_value(\n",
    "            [(v, np.zeros((num_thresholds,))) for v in self.variables]\n",
    "        )\n",
    "\n",
    "    def get_config(self):\n",
    "        config = {\n",
    "            'thresholds': self.init_thresholds,\n",
    "        }\n",
    "        base_config = super().get_config()\n",
    "        return dict(list(base_config.items()) + list(config.items()))\n"
   ]
  },
  {
   "cell_type": "code",
   "execution_count": 70,
   "metadata": {},
   "outputs": [
    {
     "output_type": "stream",
     "name": "stdout",
     "text": [
      "TensorShape([6]) TensorShape([6])\n",
      "0.6666667\n",
      "0.6666666666666666\n"
     ]
    }
   ],
   "source": [
    "from sklearn.metrics import balanced_accuracy_score, confusion_matrix\n",
    "import numpy as np\n",
    "\n",
    "ths = [0.1, 0.5, 0.9]\n",
    "acc = BlanacedBinaryAccuracy(ths)\n",
    "xs = np.array([0, 0, 1, 0, 1, 1])\n",
    "ys = np.array([0.3, 0.4, 0.5, 0.6, 0.9, 0.9])\n",
    "print(acc(tf.convert_to_tensor(xs), tf.convert_to_tensor(ys)).numpy())\n",
    "print(np.amax([balanced_accuracy_score(xs, ys > th) for th in ths]))\n"
   ]
  },
  {
   "cell_type": "code",
   "execution_count": null,
   "metadata": {},
   "outputs": [],
   "source": []
  }
 ]
}